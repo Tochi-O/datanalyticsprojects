{
 "cells": [
  {
   "cell_type": "code",
   "execution_count": 2,
   "id": "c9383041",
   "metadata": {},
   "outputs": [],
   "source": [
    "#Import Packages\n",
    "import selenium\n",
    "from selenium import webdriver\n",
    "import time\n",
    "import pandas as pd\n",
    "import os\n"
   ]
  },
  {
   "cell_type": "code",
   "execution_count": 6,
   "id": "a55c7661",
   "metadata": {},
   "outputs": [],
   "source": [
    "#Import Packages\n",
    "\n",
    "from selenium.webdriver.support.select import Select\n",
    "from selenium.webdriver.support.ui import WebDriverWait\n",
    "from selenium.webdriver.common.by import By\n",
    "from selenium.webdriver.support import expected_conditions as EC"
   ]
  },
  {
   "cell_type": "code",
   "execution_count": null,
   "id": "e65ee658",
   "metadata": {},
   "outputs": [],
   "source": [
    "#pip uninstall selenium"
   ]
  },
  {
   "cell_type": "code",
   "execution_count": 1,
   "id": "2152efb3",
   "metadata": {},
   "outputs": [
    {
     "name": "stdout",
     "output_type": "stream",
     "text": [
      "Requirement already satisfied: selenium==4.2.0 in c:\\users\\tuskie\\anaconda3\\lib\\site-packages (4.2.0)\n",
      "Requirement already satisfied: urllib3[secure,socks]~=1.26 in c:\\users\\tuskie\\anaconda3\\lib\\site-packages (from selenium==4.2.0) (1.26.4)\n",
      "Requirement already satisfied: trio-websocket~=0.9 in c:\\users\\tuskie\\anaconda3\\lib\\site-packages (from selenium==4.2.0) (0.10.2)\n",
      "Requirement already satisfied: trio~=0.17 in c:\\users\\tuskie\\anaconda3\\lib\\site-packages (from selenium==4.2.0) (0.22.0)\n",
      "Requirement already satisfied: exceptiongroup>=1.0.0rc9 in c:\\users\\tuskie\\anaconda3\\lib\\site-packages (from trio~=0.17->selenium==4.2.0) (1.1.1)\n",
      "Requirement already satisfied: sniffio in c:\\users\\tuskie\\anaconda3\\lib\\site-packages (from trio~=0.17->selenium==4.2.0) (1.2.0)\n",
      "Requirement already satisfied: sortedcontainers in c:\\users\\tuskie\\anaconda3\\lib\\site-packages (from trio~=0.17->selenium==4.2.0) (2.3.0)\n",
      "Requirement already satisfied: cffi>=1.14 in c:\\users\\tuskie\\anaconda3\\lib\\site-packages (from trio~=0.17->selenium==4.2.0) (1.14.5)\n",
      "Requirement already satisfied: idna in c:\\users\\tuskie\\anaconda3\\lib\\site-packages (from trio~=0.17->selenium==4.2.0) (2.10)\n",
      "Requirement already satisfied: async-generator>=1.9 in c:\\users\\tuskie\\anaconda3\\lib\\site-packages (from trio~=0.17->selenium==4.2.0) (1.10)\n",
      "Requirement already satisfied: attrs>=19.2.0 in c:\\users\\tuskie\\anaconda3\\lib\\site-packages (from trio~=0.17->selenium==4.2.0) (20.3.0)\n",
      "Requirement already satisfied: outcome in c:\\users\\tuskie\\anaconda3\\lib\\site-packages (from trio~=0.17->selenium==4.2.0) (1.2.0)\n",
      "Requirement already satisfied: wsproto>=0.14 in c:\\users\\tuskie\\anaconda3\\lib\\site-packages (from trio-websocket~=0.9->selenium==4.2.0) (1.2.0)\n",
      "Requirement already satisfied: cryptography>=1.3.4 in c:\\users\\tuskie\\anaconda3\\lib\\site-packages (from urllib3[secure,socks]~=1.26->selenium==4.2.0) (3.4.7)\n",
      "Requirement already satisfied: certifi in c:\\users\\tuskie\\anaconda3\\lib\\site-packages (from urllib3[secure,socks]~=1.26->selenium==4.2.0) (2022.12.7)\n",
      "Requirement already satisfied: pyOpenSSL>=0.14 in c:\\users\\tuskie\\anaconda3\\lib\\site-packages (from urllib3[secure,socks]~=1.26->selenium==4.2.0) (20.0.1)\n",
      "Requirement already satisfied: PySocks!=1.5.7,<2.0,>=1.5.6 in c:\\users\\tuskie\\anaconda3\\lib\\site-packages (from urllib3[secure,socks]~=1.26->selenium==4.2.0) (1.7.1)\n",
      "Requirement already satisfied: pycparser in c:\\users\\tuskie\\anaconda3\\lib\\site-packages (from cffi>=1.14->trio~=0.17->selenium==4.2.0) (2.20)\n",
      "Note: you may need to restart the kernel to use updated packages.Requirement already satisfied: six>=1.5.2 in c:\\users\\tuskie\\anaconda3\\lib\\site-packages (from pyOpenSSL>=0.14->urllib3[secure,socks]~=1.26->selenium==4.2.0) (1.16.0)\n",
      "Requirement already satisfied: h11<1,>=0.9.0 in c:\\users\\tuskie\\anaconda3\\lib\\site-packages (from wsproto>=0.14->trio-websocket~=0.9->selenium==4.2.0) (0.14.0)\n",
      "\n"
     ]
    },
    {
     "name": "stderr",
     "output_type": "stream",
     "text": [
      "WARNING: Ignoring invalid distribution -illow (c:\\users\\tuskie\\anaconda3\\lib\\site-packages)\n",
      "WARNING: Ignoring invalid distribution -atplotlib (c:\\users\\tuskie\\anaconda3\\lib\\site-packages)\n",
      "WARNING: Ignoring invalid distribution -illow (c:\\users\\tuskie\\anaconda3\\lib\\site-packages)\n",
      "WARNING: Ignoring invalid distribution -atplotlib (c:\\users\\tuskie\\anaconda3\\lib\\site-packages)\n",
      "WARNING: Ignoring invalid distribution -illow (c:\\users\\tuskie\\anaconda3\\lib\\site-packages)\n",
      "WARNING: Ignoring invalid distribution -atplotlib (c:\\users\\tuskie\\anaconda3\\lib\\site-packages)\n",
      "WARNING: Ignoring invalid distribution -illow (c:\\users\\tuskie\\anaconda3\\lib\\site-packages)\n",
      "WARNING: Ignoring invalid distribution -atplotlib (c:\\users\\tuskie\\anaconda3\\lib\\site-packages)\n",
      "WARNING: Ignoring invalid distribution -illow (c:\\users\\tuskie\\anaconda3\\lib\\site-packages)\n",
      "WARNING: Ignoring invalid distribution -atplotlib (c:\\users\\tuskie\\anaconda3\\lib\\site-packages)\n",
      "WARNING: Ignoring invalid distribution -illow (c:\\users\\tuskie\\anaconda3\\lib\\site-packages)\n",
      "WARNING: Ignoring invalid distribution -atplotlib (c:\\users\\tuskie\\anaconda3\\lib\\site-packages)\n",
      "\n",
      "[notice] A new release of pip available: 22.3.1 -> 23.0.1\n",
      "[notice] To update, run: python.exe -m pip install --upgrade pip\n"
     ]
    }
   ],
   "source": [
    "pip install selenium==4.2.0"
   ]
  },
  {
   "cell_type": "code",
   "execution_count": 5,
   "id": "b125d6ec",
   "metadata": {},
   "outputs": [],
   "source": [
    "#pip install selenium"
   ]
  },
  {
   "cell_type": "code",
   "execution_count": null,
   "id": "0489d139",
   "metadata": {},
   "outputs": [],
   "source": [
    "#https://ca.linkedin.com/jobs/data-analyst-jobs-toronto-on?position=1&pageNum=0"
   ]
  },
  {
   "cell_type": "code",
   "execution_count": 3,
   "id": "6e5bd6d1",
   "metadata": {},
   "outputs": [],
   "source": [
    "#Use this Url and change city or role accordingly\n",
    "\n",
    "#url1='https://www.linkedin.com/jobs/search?keywords=Marketing%20Data%20Analyst&location=Berlin%2C%20Berlin%2C%20Germany&geoId=106967730&trk=public_jobs_jobs-search-bar_search-submit&position=1&pageNum=0'\n",
    "\n",
    "url1 = 'https://ca.linkedin.com/jobs/search?keywords=Data%20Analyst&location=Toronto%2C%20Ontario%2C%20Canada&geoId=100761630&trk=public_jobs_jobs-search-bar_search-submit&position=1&pageNum=0'"
   ]
  },
  {
   "cell_type": "code",
   "execution_count": 8,
   "id": "7fda3bed",
   "metadata": {},
   "outputs": [
    {
     "name": "stderr",
     "output_type": "stream",
     "text": [
      "<ipython-input-8-cb5dbe0427c3>:3: DeprecationWarning: executable_path has been deprecated, please pass in a Service object\n",
      "  driver = webdriver.Chrome(executable_path=r'C:\\\\Users\\\\Tuskie\\\\Documents\\\\chromedriver.exe')\n"
     ]
    }
   ],
   "source": [
    "#Load the web driver and get the url\n",
    "\n",
    "driver = webdriver.Chrome(executable_path=r'C:\\\\Users\\\\Tuskie\\\\Documents\\\\chromedriver.exe')\n",
    "driver.implicitly_wait(10)\n",
    "driver.get(url1)"
   ]
  },
  {
   "cell_type": "code",
   "execution_count": 34,
   "id": "e41721f0",
   "metadata": {},
   "outputs": [],
   "source": [
    "from selenium.webdriver.common.by import By\n",
    "import re\n",
    " \n",
    "# tag_url = WebDriverWait(driver, 10).until(EC.visibility_of_element_located((By.CSS_SELECTOR, '.a-size-mini > a:nth-child(1)')))\n",
    "# print(tag_url.get_property('href'))"
   ]
  },
  {
   "cell_type": "code",
   "execution_count": 19,
   "id": "95ce5de2",
   "metadata": {},
   "outputs": [
    {
     "name": "stderr",
     "output_type": "stream",
     "text": [
      "<ipython-input-19-02937d85389f>:5: DeprecationWarning: find_elements_by_class_name is deprecated. Please use find_elements(by=By.CLASS_NAME, value=name) instead\n",
      "  y=driver.find_elements_by_class_name('results-context-header__job-count')[0].text\n"
     ]
    }
   ],
   "source": [
    "#Find number of job listings\n",
    "\n",
    "#y=driver.find_element(By.NAME,\"results-context-header__job-count\")[0].text\n",
    "\n",
    "y=driver.find_elements_by_class_name('results-context-header__job-count')[0].text"
   ]
  },
  {
   "cell_type": "code",
   "execution_count": 20,
   "id": "7f254823",
   "metadata": {},
   "outputs": [],
   "source": [
    "y=y[:-1].replace(\",\",\"\")"
   ]
  },
  {
   "cell_type": "code",
   "execution_count": 21,
   "id": "2484839d",
   "metadata": {},
   "outputs": [
    {
     "data": {
      "text/plain": [
       "'6000'"
      ]
     },
     "execution_count": 21,
     "metadata": {},
     "output_type": "execute_result"
    }
   ],
   "source": [
    "y"
   ]
  },
  {
   "cell_type": "code",
   "execution_count": 22,
   "id": "962bc806",
   "metadata": {},
   "outputs": [
    {
     "data": {
      "text/plain": [
       "str"
      ]
     },
     "execution_count": 22,
     "metadata": {},
     "output_type": "execute_result"
    }
   ],
   "source": [
    "type(y)"
   ]
  },
  {
   "cell_type": "code",
   "execution_count": 23,
   "id": "8120add2",
   "metadata": {},
   "outputs": [],
   "source": [
    "n=pd.to_numeric(y)"
   ]
  },
  {
   "cell_type": "code",
   "execution_count": 24,
   "id": "ca6203ca",
   "metadata": {},
   "outputs": [
    {
     "data": {
      "text/plain": [
       "6000"
      ]
     },
     "execution_count": 24,
     "metadata": {},
     "output_type": "execute_result"
    }
   ],
   "source": [
    "n"
   ]
  },
  {
   "cell_type": "code",
   "execution_count": 26,
   "id": "888b6cc0",
   "metadata": {},
   "outputs": [
    {
     "name": "stderr",
     "output_type": "stream",
     "text": [
      "<ipython-input-26-24d79f31029b>:9: DeprecationWarning: find_element_by_xpath is deprecated. Please use find_element(by=By.XPATH, value=xpath) instead\n",
      "  send=driver.find_element_by_xpath(\"//button[@aria-label='Load more results']\")\n"
     ]
    },
    {
     "ename": "KeyboardInterrupt",
     "evalue": "",
     "output_type": "error",
     "traceback": [
      "\u001b[1;31m---------------------------------------------------------------------------\u001b[0m",
      "\u001b[1;31mNoSuchElementException\u001b[0m                    Traceback (most recent call last)",
      "\u001b[1;32m<ipython-input-26-24d79f31029b>\u001b[0m in \u001b[0;36m<module>\u001b[1;34m\u001b[0m\n\u001b[0;32m      8\u001b[0m     \u001b[1;32mtry\u001b[0m\u001b[1;33m:\u001b[0m\u001b[1;33m\u001b[0m\u001b[1;33m\u001b[0m\u001b[0m\n\u001b[1;32m----> 9\u001b[1;33m         \u001b[0msend\u001b[0m\u001b[1;33m=\u001b[0m\u001b[0mdriver\u001b[0m\u001b[1;33m.\u001b[0m\u001b[0mfind_element_by_xpath\u001b[0m\u001b[1;33m(\u001b[0m\u001b[1;34m\"//button[@aria-label='Load more results']\"\u001b[0m\u001b[1;33m)\u001b[0m\u001b[1;33m\u001b[0m\u001b[1;33m\u001b[0m\u001b[0m\n\u001b[0m\u001b[0;32m     10\u001b[0m         \u001b[0mdriver\u001b[0m\u001b[1;33m.\u001b[0m\u001b[0mexecute_script\u001b[0m\u001b[1;33m(\u001b[0m\u001b[1;34m\"arguments[0].click();\"\u001b[0m\u001b[1;33m,\u001b[0m \u001b[0msend\u001b[0m\u001b[1;33m)\u001b[0m\u001b[1;33m\u001b[0m\u001b[1;33m\u001b[0m\u001b[0m\n",
      "\u001b[1;32m~\\anaconda3\\lib\\site-packages\\selenium\\webdriver\\remote\\webdriver.py\u001b[0m in \u001b[0;36mfind_element_by_xpath\u001b[1;34m(self, xpath)\u001b[0m\n\u001b[0;32m    525\u001b[0m         )\n\u001b[1;32m--> 526\u001b[1;33m         \u001b[1;32mreturn\u001b[0m \u001b[0mself\u001b[0m\u001b[1;33m.\u001b[0m\u001b[0mfind_element\u001b[0m\u001b[1;33m(\u001b[0m\u001b[0mby\u001b[0m\u001b[1;33m=\u001b[0m\u001b[0mBy\u001b[0m\u001b[1;33m.\u001b[0m\u001b[0mXPATH\u001b[0m\u001b[1;33m,\u001b[0m \u001b[0mvalue\u001b[0m\u001b[1;33m=\u001b[0m\u001b[0mxpath\u001b[0m\u001b[1;33m)\u001b[0m\u001b[1;33m\u001b[0m\u001b[1;33m\u001b[0m\u001b[0m\n\u001b[0m\u001b[0;32m    527\u001b[0m \u001b[1;33m\u001b[0m\u001b[0m\n",
      "\u001b[1;32m~\\anaconda3\\lib\\site-packages\\selenium\\webdriver\\remote\\webdriver.py\u001b[0m in \u001b[0;36mfind_element\u001b[1;34m(self, by, value)\u001b[0m\n\u001b[0;32m   1250\u001b[0m \u001b[1;33m\u001b[0m\u001b[0m\n\u001b[1;32m-> 1251\u001b[1;33m         return self.execute(Command.FIND_ELEMENT, {\n\u001b[0m\u001b[0;32m   1252\u001b[0m             \u001b[1;34m'using'\u001b[0m\u001b[1;33m:\u001b[0m \u001b[0mby\u001b[0m\u001b[1;33m,\u001b[0m\u001b[1;33m\u001b[0m\u001b[1;33m\u001b[0m\u001b[0m\n",
      "\u001b[1;32m~\\anaconda3\\lib\\site-packages\\selenium\\webdriver\\remote\\webdriver.py\u001b[0m in \u001b[0;36mexecute\u001b[1;34m(self, driver_command, params)\u001b[0m\n\u001b[0;32m    429\u001b[0m         \u001b[1;32mif\u001b[0m \u001b[0mresponse\u001b[0m\u001b[1;33m:\u001b[0m\u001b[1;33m\u001b[0m\u001b[1;33m\u001b[0m\u001b[0m\n\u001b[1;32m--> 430\u001b[1;33m             \u001b[0mself\u001b[0m\u001b[1;33m.\u001b[0m\u001b[0merror_handler\u001b[0m\u001b[1;33m.\u001b[0m\u001b[0mcheck_response\u001b[0m\u001b[1;33m(\u001b[0m\u001b[0mresponse\u001b[0m\u001b[1;33m)\u001b[0m\u001b[1;33m\u001b[0m\u001b[1;33m\u001b[0m\u001b[0m\n\u001b[0m\u001b[0;32m    431\u001b[0m             response['value'] = self._unwrap_value(\n",
      "\u001b[1;32m~\\anaconda3\\lib\\site-packages\\selenium\\webdriver\\remote\\errorhandler.py\u001b[0m in \u001b[0;36mcheck_response\u001b[1;34m(self, response)\u001b[0m\n\u001b[0;32m    246\u001b[0m             \u001b[1;32mraise\u001b[0m \u001b[0mexception_class\u001b[0m\u001b[1;33m(\u001b[0m\u001b[0mmessage\u001b[0m\u001b[1;33m,\u001b[0m \u001b[0mscreen\u001b[0m\u001b[1;33m,\u001b[0m \u001b[0mstacktrace\u001b[0m\u001b[1;33m,\u001b[0m \u001b[0malert_text\u001b[0m\u001b[1;33m)\u001b[0m  \u001b[1;31m# type: ignore[call-arg]  # mypy is not smart enough here\u001b[0m\u001b[1;33m\u001b[0m\u001b[1;33m\u001b[0m\u001b[0m\n\u001b[1;32m--> 247\u001b[1;33m         \u001b[1;32mraise\u001b[0m \u001b[0mexception_class\u001b[0m\u001b[1;33m(\u001b[0m\u001b[0mmessage\u001b[0m\u001b[1;33m,\u001b[0m \u001b[0mscreen\u001b[0m\u001b[1;33m,\u001b[0m \u001b[0mstacktrace\u001b[0m\u001b[1;33m)\u001b[0m\u001b[1;33m\u001b[0m\u001b[1;33m\u001b[0m\u001b[0m\n\u001b[0m\u001b[0;32m    248\u001b[0m \u001b[1;33m\u001b[0m\u001b[0m\n",
      "\u001b[1;31mNoSuchElementException\u001b[0m: Message: no such element: Unable to locate element: {\"method\":\"xpath\",\"selector\":\"//button[@aria-label='Load more results']\"}\n  (Session info: chrome=111.0.5563.147)\nStacktrace:\nBacktrace:\n\t(No symbol) [0x00CEDCE3]\n\t(No symbol) [0x00C839D1]\n\t(No symbol) [0x00B94DA8]\n\t(No symbol) [0x00BC019F]\n\t(No symbol) [0x00BC03AB]\n\t(No symbol) [0x00BEEE62]\n\t(No symbol) [0x00BDAF14]\n\t(No symbol) [0x00BED57C]\n\t(No symbol) [0x00BDACC6]\n\t(No symbol) [0x00BB6F68]\n\t(No symbol) [0x00BB80CD]\n\tGetHandleVerifier [0x00F63832+2506274]\n\tGetHandleVerifier [0x00F99794+2727300]\n\tGetHandleVerifier [0x00F9E36C+2746716]\n\tGetHandleVerifier [0x00D96690+617600]\n\t(No symbol) [0x00C8C712]\n\t(No symbol) [0x00C91FF8]\n\t(No symbol) [0x00C920DB]\n\t(No symbol) [0x00C9C63B]\n\tBaseThreadInitThunk [0x779100F9+25]\n\tRtlGetAppContainerNamedObjectPath [0x77E57BBE+286]\n\tRtlGetAppContainerNamedObjectPath [0x77E57B8E+238]\n",
      "\nDuring handling of the above exception, another exception occurred:\n",
      "\u001b[1;31mKeyboardInterrupt\u001b[0m                         Traceback (most recent call last)",
      "\u001b[1;32m<ipython-input-26-24d79f31029b>\u001b[0m in \u001b[0;36m<module>\u001b[1;34m\u001b[0m\n\u001b[0;32m     24\u001b[0m     \u001b[1;32mexcept\u001b[0m\u001b[1;33m:\u001b[0m\u001b[1;33m\u001b[0m\u001b[1;33m\u001b[0m\u001b[0m\n\u001b[0;32m     25\u001b[0m         \u001b[1;32mpass\u001b[0m\u001b[1;33m\u001b[0m\u001b[1;33m\u001b[0m\u001b[0m\n\u001b[1;32m---> 26\u001b[1;33m         \u001b[0mtime\u001b[0m\u001b[1;33m.\u001b[0m\u001b[0msleep\u001b[0m\u001b[1;33m(\u001b[0m\u001b[1;36m5\u001b[0m\u001b[1;33m)\u001b[0m\u001b[1;33m\u001b[0m\u001b[1;33m\u001b[0m\u001b[0m\n\u001b[0m",
      "\u001b[1;31mKeyboardInterrupt\u001b[0m: "
     ]
    }
   ],
   "source": [
    "#Loop to scroll through all jobs and click on see more jobs button for infinite scrolling\n",
    "\n",
    "i = 2\n",
    "while i <= int((400+200)/25)+1: \n",
    "    driver.execute_script(\"window.scrollTo(0, document.body.scrollHeight);\")\n",
    "    i = i + 1\n",
    "    \n",
    "    try:\n",
    "        send=driver.find_element_by_xpath(\"//button[@aria-label='Load more results']\")\n",
    "        driver.execute_script(\"arguments[0].click();\", send)   \n",
    "        time.sleep(3)\n",
    "    \n",
    "        \n",
    "         #buu=driver.find_elements_by_tag_name(\"button\")\n",
    "         #x=[btn for btn in buu if btn.text==\"See more jobs\"]\n",
    "         #for btn in x:\n",
    "                #driver.execute_script(\"arguments[0].click();\", btn)\n",
    "                #time.sleep(3)\n",
    "        \n",
    "                                                 \n",
    "\n",
    "\n",
    "            \n",
    "    except:\n",
    "        pass\n",
    "        time.sleep(5)"
   ]
  },
  {
   "cell_type": "code",
   "execution_count": 41,
   "id": "7946bc9c",
   "metadata": {},
   "outputs": [],
   "source": [
    "#Create empty lists for company name and job title\n",
    "\n",
    "companyname= []\n",
    "titlename= []\n"
   ]
  },
  {
   "cell_type": "code",
   "execution_count": 42,
   "id": "0653d30f",
   "metadata": {},
   "outputs": [
    {
     "name": "stderr",
     "output_type": "stream",
     "text": [
      "<ipython-input-42-fb36e2701283>:5: DeprecationWarning: find_elements_by_class_name is deprecated. Please use find_elements(by=By.CLASS_NAME, value=name) instead\n",
      "  company=driver.find_elements_by_class_name('base-search-card__subtitle')[i].text\n"
     ]
    }
   ],
   "source": [
    "#Find company name and append it to the blank list\n",
    "\n",
    "try:\n",
    "    for i in range(10):\n",
    "        company=driver.find_elements_by_class_name('base-search-card__subtitle')[i].text\n",
    "        companyname.append(company)\n",
    "        \n",
    "            \n",
    "    \n",
    "\n",
    "        \n",
    "    \n",
    "\n",
    "    \n",
    "    \n",
    "except IndexError:\n",
    "    print(\"no\")"
   ]
  },
  {
   "cell_type": "code",
   "execution_count": 43,
   "id": "41cc9a0a",
   "metadata": {},
   "outputs": [
    {
     "data": {
      "text/plain": [
       "10"
      ]
     },
     "execution_count": 43,
     "metadata": {},
     "output_type": "execute_result"
    }
   ],
   "source": [
    "len(companyname)\n"
   ]
  },
  {
   "cell_type": "code",
   "execution_count": 44,
   "id": "ce67c479",
   "metadata": {},
   "outputs": [
    {
     "name": "stderr",
     "output_type": "stream",
     "text": [
      "<ipython-input-44-53356660dfbf>:7: DeprecationWarning: find_elements_by_class_name is deprecated. Please use find_elements(by=By.CLASS_NAME, value=name) instead\n",
      "  title=driver.find_elements_by_class_name('base-search-card__title')[i].text\n"
     ]
    }
   ],
   "source": [
    "#Find title name and append it to the blank list\n",
    "\n",
    "try:\n",
    "    for i in range(10):\n",
    "        \n",
    "        \n",
    "        title=driver.find_elements_by_class_name('base-search-card__title')[i].text\n",
    "    \n",
    "\n",
    "        titlename.append(title)\n",
    "        \n",
    "            \n",
    "\n",
    "\n",
    "    \n",
    "    \n",
    "except IndexError:\n",
    "    print(\"no\")\n",
    "        "
   ]
  },
  {
   "cell_type": "code",
   "execution_count": 45,
   "id": "7b0dd32d",
   "metadata": {},
   "outputs": [
    {
     "data": {
      "text/plain": [
       "10"
      ]
     },
     "execution_count": 45,
     "metadata": {},
     "output_type": "execute_result"
    }
   ],
   "source": [
    "len(titlename)"
   ]
  },
  {
   "cell_type": "code",
   "execution_count": 46,
   "id": "6cee7e1a",
   "metadata": {},
   "outputs": [],
   "source": [
    "#Create dataframe for company name and title\n",
    "\n",
    "companyfinal=pd.DataFrame(companyname,columns=[\"company\"])\n",
    "titlefinal=pd.DataFrame(titlename,columns=[\"title\"])\n",
    "\n"
   ]
  },
  {
   "cell_type": "code",
   "execution_count": 47,
   "id": "7921f37f",
   "metadata": {},
   "outputs": [],
   "source": [
    "#Join the two lists\n",
    "\n",
    "x=companyfinal.join(titlefinal)"
   ]
  },
  {
   "cell_type": "code",
   "execution_count": 48,
   "id": "213e489f",
   "metadata": {},
   "outputs": [
    {
     "data": {
      "text/html": [
       "<div>\n",
       "<style scoped>\n",
       "    .dataframe tbody tr th:only-of-type {\n",
       "        vertical-align: middle;\n",
       "    }\n",
       "\n",
       "    .dataframe tbody tr th {\n",
       "        vertical-align: top;\n",
       "    }\n",
       "\n",
       "    .dataframe thead th {\n",
       "        text-align: right;\n",
       "    }\n",
       "</style>\n",
       "<table border=\"1\" class=\"dataframe\">\n",
       "  <thead>\n",
       "    <tr style=\"text-align: right;\">\n",
       "      <th></th>\n",
       "      <th>company</th>\n",
       "      <th>title</th>\n",
       "    </tr>\n",
       "  </thead>\n",
       "  <tbody>\n",
       "    <tr>\n",
       "      <th>0</th>\n",
       "      <td>Air Canada</td>\n",
       "      <td>Analyst, Digital Platform</td>\n",
       "    </tr>\n",
       "    <tr>\n",
       "      <th>1</th>\n",
       "      <td>HUB International Canada</td>\n",
       "      <td>Data Analyst</td>\n",
       "    </tr>\n",
       "    <tr>\n",
       "      <th>2</th>\n",
       "      <td>Canada Life</td>\n",
       "      <td>Senior Analyst Data &amp; Analytics</td>\n",
       "    </tr>\n",
       "    <tr>\n",
       "      <th>3</th>\n",
       "      <td>HP</td>\n",
       "      <td>Business Analyst and Intelligence Lead</td>\n",
       "    </tr>\n",
       "    <tr>\n",
       "      <th>4</th>\n",
       "      <td>Synechron</td>\n",
       "      <td>DataBase Developer (MY SQL)</td>\n",
       "    </tr>\n",
       "    <tr>\n",
       "      <th>5</th>\n",
       "      <td>Element Fleet Management</td>\n",
       "      <td>Senior Data Analyst- Finance Solutions</td>\n",
       "    </tr>\n",
       "    <tr>\n",
       "      <th>6</th>\n",
       "      <td>VTRAC Consulting Corporation (Certified Divers...</td>\n",
       "      <td>Data Analyst</td>\n",
       "    </tr>\n",
       "    <tr>\n",
       "      <th>7</th>\n",
       "      <td>LSEG (London Stock Exchange Group)</td>\n",
       "      <td>Market Data Analyst</td>\n",
       "    </tr>\n",
       "    <tr>\n",
       "      <th>8</th>\n",
       "      <td>TD</td>\n",
       "      <td>Sr. IT Data Analyst</td>\n",
       "    </tr>\n",
       "    <tr>\n",
       "      <th>9</th>\n",
       "      <td>Epsilon Solutions Ltd.</td>\n",
       "      <td>Data Engineer</td>\n",
       "    </tr>\n",
       "  </tbody>\n",
       "</table>\n",
       "</div>"
      ],
      "text/plain": [
       "                                             company  \\\n",
       "0                                         Air Canada   \n",
       "1                           HUB International Canada   \n",
       "2                                        Canada Life   \n",
       "3                                                 HP   \n",
       "4                                          Synechron   \n",
       "5                           Element Fleet Management   \n",
       "6  VTRAC Consulting Corporation (Certified Divers...   \n",
       "7                 LSEG (London Stock Exchange Group)   \n",
       "8                                                 TD   \n",
       "9                             Epsilon Solutions Ltd.   \n",
       "\n",
       "                                    title  \n",
       "0               Analyst, Digital Platform  \n",
       "1                            Data Analyst  \n",
       "2         Senior Analyst Data & Analytics  \n",
       "3  Business Analyst and Intelligence Lead  \n",
       "4             DataBase Developer (MY SQL)  \n",
       "5  Senior Data Analyst- Finance Solutions  \n",
       "6                            Data Analyst  \n",
       "7                     Market Data Analyst  \n",
       "8                     Sr. IT Data Analyst  \n",
       "9                           Data Engineer  "
      ]
     },
     "execution_count": 48,
     "metadata": {},
     "output_type": "execute_result"
    }
   ],
   "source": [
    "x"
   ]
  },
  {
   "cell_type": "code",
   "execution_count": 49,
   "id": "5f7c8e9c",
   "metadata": {},
   "outputs": [],
   "source": [
    "#Save file in your directory\n",
    "\n",
    "x.to_csv('linkedin.csv')"
   ]
  },
  {
   "cell_type": "code",
   "execution_count": 50,
   "id": "77f1ee93",
   "metadata": {},
   "outputs": [
    {
     "name": "stderr",
     "output_type": "stream",
     "text": [
      "<ipython-input-50-d39d6fba48b2>:3: DeprecationWarning: find_elements_by_class_name is deprecated. Please use find_elements(by=By.CLASS_NAME, value=name) instead\n",
      "  jobList = driver.find_elements_by_class_name('base-card__full-link')\n"
     ]
    }
   ],
   "source": [
    "#Find job links and append it to a list\n",
    "\n",
    "jobList = driver.find_elements_by_class_name('base-card__full-link')\n",
    "hrefList = []\n",
    "for e in jobList:\n",
    "    hrefList.append(e.get_attribute('href'))\n",
    "\n",
    "#for href in hrefList:\n",
    "    #link.append(href)"
   ]
  },
  {
   "cell_type": "code",
   "execution_count": 51,
   "id": "1c0a72b3",
   "metadata": {},
   "outputs": [
    {
     "data": {
      "text/plain": [
       "['https://ca.linkedin.com/jobs/view/analyst-digital-platform-at-air-canada-3542792045?refId=AtY8wKmwgmmgqYwod4WaKg%3D%3D&trackingId=mHj3hp8t23FfUdLS%2FGjCew%3D%3D&position=1&pageNum=0&trk=public_jobs_jserp-result_search-card',\n",
       " 'https://ca.linkedin.com/jobs/view/data-analyst-at-hub-international-canada-3530100931?refId=AtY8wKmwgmmgqYwod4WaKg%3D%3D&trackingId=8kbThcyk3irZS65GDvR9Mw%3D%3D&position=2&pageNum=0&trk=public_jobs_jserp-result_search-card',\n",
       " 'https://ca.linkedin.com/jobs/view/senior-analyst-data-analytics-at-canada-life-3539275404?refId=AtY8wKmwgmmgqYwod4WaKg%3D%3D&trackingId=Q9pm%2Fuc0YURhpBn8CGAM6g%3D%3D&position=3&pageNum=0&trk=public_jobs_jserp-result_search-card',\n",
       " 'https://ca.linkedin.com/jobs/view/business-analyst-and-intelligence-lead-at-hp-3470770816?refId=AtY8wKmwgmmgqYwod4WaKg%3D%3D&trackingId=DmxtjR2CMWfKkP2kZNDg6g%3D%3D&position=4&pageNum=0&trk=public_jobs_jserp-result_search-card',\n",
       " 'https://ca.linkedin.com/jobs/view/database-developer-my-sql-at-synechron-3477050824?refId=AtY8wKmwgmmgqYwod4WaKg%3D%3D&trackingId=7qYEcfLdw9QMLFsHbqGYDg%3D%3D&position=5&pageNum=0&trk=public_jobs_jserp-result_search-card',\n",
       " 'https://ca.linkedin.com/jobs/view/senior-data-analyst-finance-solutions-at-element-fleet-management-3511364453?refId=AtY8wKmwgmmgqYwod4WaKg%3D%3D&trackingId=yzqFg%2FkmQ%2FERSUhxUbL%2BqA%3D%3D&position=6&pageNum=0&trk=public_jobs_jserp-result_search-card',\n",
       " 'https://ca.linkedin.com/jobs/view/data-analyst-at-vtrac-consulting-corporation-certified-diversity-co-3371357359?refId=AtY8wKmwgmmgqYwod4WaKg%3D%3D&trackingId=u6TqSaaufINo4jrjfl1Ksw%3D%3D&position=7&pageNum=0&trk=public_jobs_jserp-result_search-card',\n",
       " 'https://ca.linkedin.com/jobs/view/market-data-analyst-at-lseg-london-stock-exchange-group-3540903790?refId=AtY8wKmwgmmgqYwod4WaKg%3D%3D&trackingId=lOa7AF2SRTFb2Q74lnM6Gw%3D%3D&position=8&pageNum=0&trk=public_jobs_jserp-result_search-card',\n",
       " 'https://ca.linkedin.com/jobs/view/sr-it-data-analyst-at-td-3547250265?refId=AtY8wKmwgmmgqYwod4WaKg%3D%3D&trackingId=7QVW597dopzF0QI0ZKgrMA%3D%3D&position=9&pageNum=0&trk=public_jobs_jserp-result_search-card',\n",
       " 'https://ca.linkedin.com/jobs/view/data-engineer-at-epsilon-solutions-ltd-3507839257?refId=AtY8wKmwgmmgqYwod4WaKg%3D%3D&trackingId=goATBvZwvVGjdI%2BSpCt1Sw%3D%3D&position=10&pageNum=0&trk=public_jobs_jserp-result_search-card',\n",
       " 'https://ca.linkedin.com/jobs/view/sr-data-analyst-business-analyst-canada-remote-at-ntt-data-services-3487960733?refId=AtY8wKmwgmmgqYwod4WaKg%3D%3D&trackingId=lU2NAthT9Z9UUEU6FXfUWw%3D%3D&position=11&pageNum=0&trk=public_jobs_jserp-result_search-card',\n",
       " 'https://ca.linkedin.com/jobs/view/clinical-data-analyst-data-entry-microsoft-excel-home-based-at-autocruitment-3521455851?refId=AtY8wKmwgmmgqYwod4WaKg%3D%3D&trackingId=GnXL3gL7jEFktulvQmBRQg%3D%3D&position=12&pageNum=0&trk=public_jobs_jserp-result_search-card',\n",
       " 'https://ca.linkedin.com/jobs/view/data-analyst-finance-at-randstad-canada-3533808906?refId=AtY8wKmwgmmgqYwod4WaKg%3D%3D&trackingId=2EtWU6PWaxnWax0Bomg%2B2g%3D%3D&position=13&pageNum=0&trk=public_jobs_jserp-result_search-card',\n",
       " 'https://ca.linkedin.com/jobs/view/sr-market-data-analyst-at-lightbox-3507786843?refId=AtY8wKmwgmmgqYwod4WaKg%3D%3D&trackingId=K0e4pIFwDENkneMRbOB32g%3D%3D&position=14&pageNum=0&trk=public_jobs_jserp-result_search-card',\n",
       " 'https://ca.linkedin.com/jobs/view/can-data-analyst-ii-at-randstad-canada-3507128263?refId=AtY8wKmwgmmgqYwod4WaKg%3D%3D&trackingId=309Y16NUgxpVNE1a1nalnw%3D%3D&position=15&pageNum=0&trk=public_jobs_jserp-result_search-card',\n",
       " 'https://ca.linkedin.com/jobs/view/data-engineer-at-futurefit-ai-3479101122?refId=AtY8wKmwgmmgqYwod4WaKg%3D%3D&trackingId=3mo4aW5cPWkzs9SZaY6P1g%3D%3D&position=16&pageNum=0&trk=public_jobs_jserp-result_search-card',\n",
       " 'https://ca.linkedin.com/jobs/view/senior-data-analyst-cx-op-s-at-binance-us-3501412053?refId=AtY8wKmwgmmgqYwod4WaKg%3D%3D&trackingId=IGU1cjoJWIOJxhcg%2B2oSUw%3D%3D&position=17&pageNum=0&trk=public_jobs_jserp-result_search-card',\n",
       " 'https://ca.linkedin.com/jobs/view/cloud-optimization-data-analyst-at-cohere-3537927249?refId=AtY8wKmwgmmgqYwod4WaKg%3D%3D&trackingId=XS4ay2%2F6hC%2FTxglSg26vqA%3D%3D&position=18&pageNum=0&trk=public_jobs_jserp-result_search-card',\n",
       " 'https://ca.linkedin.com/jobs/view/data-management-reporting-analyst-office-of-the-registrar-2-full-time-support-i-o-at-humber-college-3545862562?refId=AtY8wKmwgmmgqYwod4WaKg%3D%3D&trackingId=I7RoJXciQbuE1guaQJVEtQ%3D%3D&position=19&pageNum=0&trk=public_jobs_jserp-result_search-card',\n",
       " 'https://ca.linkedin.com/jobs/view/mediabrands-junior-business-intelligence-developer-at-mediabrands-3550992891?refId=AtY8wKmwgmmgqYwod4WaKg%3D%3D&trackingId=JnOmg57rDPGN6bifCCcCjg%3D%3D&position=20&pageNum=0&trk=public_jobs_jserp-result_search-card',\n",
       " 'https://ca.linkedin.com/jobs/view/reporting-analyst-email-marketing-and-digital-analytics-at-heart-stroke-3502497929?refId=AtY8wKmwgmmgqYwod4WaKg%3D%3D&trackingId=fv2U1TaLnREtDWVNbRyx0w%3D%3D&position=21&pageNum=0&trk=public_jobs_jserp-result_search-card',\n",
       " 'https://ca.linkedin.com/jobs/view/interim-finance-data-analyst-at-ifg-international-financial-group-3496812855?refId=AtY8wKmwgmmgqYwod4WaKg%3D%3D&trackingId=dqvIty9gQpqaDSGa2R2ujg%3D%3D&position=22&pageNum=0&trk=public_jobs_jserp-result_search-card',\n",
       " 'https://ca.linkedin.com/jobs/view/senior-analyst-%E2%80%93-data-management-chief-data-office-at-rbc-3529576842?refId=AtY8wKmwgmmgqYwod4WaKg%3D%3D&trackingId=jdStl3T04XFfUaTxFtRRUA%3D%3D&position=23&pageNum=0&trk=public_jobs_jserp-result_search-card',\n",
       " 'https://ca.linkedin.com/jobs/view/senior-data-analyst-at-zortech-solutions-3532052121?refId=AtY8wKmwgmmgqYwod4WaKg%3D%3D&trackingId=UXt9wBzImMdC4HZA7H5tdA%3D%3D&position=24&pageNum=0&trk=public_jobs_jserp-result_search-card',\n",
       " 'https://ca.linkedin.com/jobs/view/business-intelligence-specialist-at-td-3547508682?refId=AtY8wKmwgmmgqYwod4WaKg%3D%3D&trackingId=PBU26yoJ0y5dL6WXn%2BKg2w%3D%3D&position=25&pageNum=0&trk=public_jobs_jserp-result_search-card',\n",
       " 'https://ca.linkedin.com/jobs/view/data-analyst-coder-decision-support-temporary-full-time-until-approx-august-2023-222114-at-sunnybrook-3494098231?refId=z7cPQAZeD3CPjqDXOnK4Kg%3D%3D&trackingId=tuluzxnwGYs8d5VDI9Fa6w%3D%3D&position=1&pageNum=1&trk=public_jobs_jserp-result_search-card',\n",
       " 'https://ca.linkedin.com/jobs/view/business-data-analyst-at-diverse-lynx-3512609868?refId=z7cPQAZeD3CPjqDXOnK4Kg%3D%3D&trackingId=Yd662KZ9KIZalOPZYfLMlg%3D%3D&position=2&pageNum=1&trk=public_jobs_jserp-result_search-card',\n",
       " 'https://ca.linkedin.com/jobs/view/senior-analyst-customer-insights-at-sunwing-3545447276?refId=z7cPQAZeD3CPjqDXOnK4Kg%3D%3D&trackingId=wwLm%2FLgvd8keTSQlKQntBQ%3D%3D&position=3&pageNum=1&trk=public_jobs_jserp-result_search-card',\n",
       " 'https://ca.linkedin.com/jobs/view/power-bi-consultant-at-dimensional-strategies-inc-3515990221?refId=z7cPQAZeD3CPjqDXOnK4Kg%3D%3D&trackingId=IzmBiUpwVplj%2FIgoqjOFCQ%3D%3D&position=4&pageNum=1&trk=public_jobs_jserp-result_search-card',\n",
       " 'https://ca.linkedin.com/jobs/view/data-scientist-analyst-at-iq-hunt-ltd-3506262565?refId=z7cPQAZeD3CPjqDXOnK4Kg%3D%3D&trackingId=BabkTpK4FSnZrA%2BO6ivcMw%3D%3D&position=5&pageNum=1&trk=public_jobs_jserp-result_search-card',\n",
       " 'https://ca.linkedin.com/jobs/view/junior-business-systems-analyst-at-myblueprint-3532738518?refId=z7cPQAZeD3CPjqDXOnK4Kg%3D%3D&trackingId=4gFUHs8S%2B%2FK5NyUbbCz5Uw%3D%3D&position=6&pageNum=1&trk=public_jobs_jserp-result_search-card',\n",
       " 'https://ca.linkedin.com/jobs/view/senior-insights-analyst-at-william-thomas-digital-3530216359?refId=z7cPQAZeD3CPjqDXOnK4Kg%3D%3D&trackingId=KCBr65e%2F8lmKGWqM7ggcrg%3D%3D&position=7&pageNum=1&trk=public_jobs_jserp-result_search-card',\n",
       " 'https://ca.linkedin.com/jobs/view/financial-data-analyst-at-homeequity-bank-3527083681?refId=z7cPQAZeD3CPjqDXOnK4Kg%3D%3D&trackingId=fj9Mwzh5C%2FAR1v1kEh%2BCoQ%3D%3D&position=8&pageNum=1&trk=public_jobs_jserp-result_search-card',\n",
       " 'https://ca.linkedin.com/jobs/view/senior-data-analyst-at-loblaw-companies-limited-3522694078?refId=z7cPQAZeD3CPjqDXOnK4Kg%3D%3D&trackingId=DP8XQo6SIqvKIqpqBALaXw%3D%3D&position=9&pageNum=1&trk=public_jobs_jserp-result_search-card',\n",
       " 'https://ca.linkedin.com/jobs/view/data-analyst-technology-services-group-at-optimus-sbr-3508606945?refId=z7cPQAZeD3CPjqDXOnK4Kg%3D%3D&trackingId=gzXY6lpChmfQG%2BxSpHAweQ%3D%3D&position=10&pageNum=1&trk=public_jobs_jserp-result_search-card',\n",
       " 'https://ca.linkedin.com/jobs/view/data-analyst-at-apex-systems-3537938588?refId=z7cPQAZeD3CPjqDXOnK4Kg%3D%3D&trackingId=qzUznhxY1y7b1TdPHCJxRQ%3D%3D&position=11&pageNum=1&trk=public_jobs_jserp-result_search-card',\n",
       " 'https://ca.linkedin.com/jobs/view/business-analytics-consultant-at-shyftlabs-3433251669?refId=z7cPQAZeD3CPjqDXOnK4Kg%3D%3D&trackingId=1MuQP7VSXqS4K8910nMtdw%3D%3D&position=12&pageNum=1&trk=public_jobs_jserp-result_search-card',\n",
       " 'https://ca.linkedin.com/jobs/view/data-analyst-engineer-erp-administrator-at-agentc-recruitment-bureau-inc-3551205486?refId=z7cPQAZeD3CPjqDXOnK4Kg%3D%3D&trackingId=BoAe9%2B9f1zxI%2BLMG5hApAw%3D%3D&position=13&pageNum=1&trk=public_jobs_jserp-result_search-card',\n",
       " 'https://ca.linkedin.com/jobs/view/can-data-analyst-i-at-randstad-canada-3507124837?refId=z7cPQAZeD3CPjqDXOnK4Kg%3D%3D&trackingId=c9PuGqOyxcx9sYwVmFGJzg%3D%3D&position=14&pageNum=1&trk=public_jobs_jserp-result_search-card',\n",
       " 'https://ca.linkedin.com/jobs/view/business-intelligence-analyst-at-mosaic-north-america-3545260765?refId=z7cPQAZeD3CPjqDXOnK4Kg%3D%3D&trackingId=W7WXAmxz7JbqrgnswvheLQ%3D%3D&position=15&pageNum=1&trk=public_jobs_jserp-result_search-card',\n",
       " 'https://ca.linkedin.com/jobs/view/quality-improvement-and-data-analyst-at-michael-garron-hospital-3524270433?refId=z7cPQAZeD3CPjqDXOnK4Kg%3D%3D&trackingId=A46U%2B8K%2BFWd7fN62f2x9nw%3D%3D&position=16&pageNum=1&trk=public_jobs_jserp-result_search-card',\n",
       " 'https://ca.linkedin.com/jobs/view/bi-analyst-hybrid-at-randstad-canada-3523770514?refId=z7cPQAZeD3CPjqDXOnK4Kg%3D%3D&trackingId=xya8O0ZPD5pua7Vx9%2FaYYA%3D%3D&position=17&pageNum=1&trk=public_jobs_jserp-result_search-card',\n",
       " 'https://ca.linkedin.com/jobs/view/business-data-analyst-at-hoopp-healthcare-of-ontario-pension-plan-3385047009?refId=z7cPQAZeD3CPjqDXOnK4Kg%3D%3D&trackingId=pGt%2Bl857nVmVF6LEEERU7g%3D%3D&position=19&pageNum=1&trk=public_jobs_jserp-result_search-card',\n",
       " 'https://ca.linkedin.com/jobs/view/senior-data-analyst-at-thentia-3468157097?refId=z7cPQAZeD3CPjqDXOnK4Kg%3D%3D&trackingId=GI9r32EbMZZhp%2FMOgXH7bA%3D%3D&position=20&pageNum=1&trk=public_jobs_jserp-result_search-card',\n",
       " 'https://ca.linkedin.com/jobs/view/reporting-and-analytics-senior-analyst-at-equinix-3536675414?refId=z7cPQAZeD3CPjqDXOnK4Kg%3D%3D&trackingId=qFfMKfVnIZyQGDM1j%2BDt7w%3D%3D&position=21&pageNum=1&trk=public_jobs_jserp-result_search-card',\n",
       " 'https://ca.linkedin.com/jobs/view/business-intelligence-specialist-en-at-td-3547479959?refId=z7cPQAZeD3CPjqDXOnK4Kg%3D%3D&trackingId=bm70JUZ%2Bfdv4dvRqh9UgYg%3D%3D&position=22&pageNum=1&trk=public_jobs_jserp-result_search-card',\n",
       " 'https://ca.linkedin.com/jobs/view/pricing-data-analytics-at-forge-recruitment-3535514253?refId=z7cPQAZeD3CPjqDXOnK4Kg%3D%3D&trackingId=zOz5eI54Xz%2Bipk9lBj0gMg%3D%3D&position=23&pageNum=1&trk=public_jobs_jserp-result_search-card',\n",
       " 'https://ca.linkedin.com/jobs/view/sales-data-analyst-mississauga-at-hatch-3514711166?refId=z7cPQAZeD3CPjqDXOnK4Kg%3D%3D&trackingId=%2Fhu5LqAhNNCz22CRkYiEHQ%3D%3D&position=24&pageNum=1&trk=public_jobs_jserp-result_search-card',\n",
       " 'https://ca.linkedin.com/jobs/view/senior-business-insights-analyst-at-td-3547249319?refId=z7cPQAZeD3CPjqDXOnK4Kg%3D%3D&trackingId=wEgcka5I12Q25ISjWuN5oQ%3D%3D&position=25&pageNum=1&trk=public_jobs_jserp-result_search-card',\n",
       " 'https://ca.linkedin.com/jobs/view/senior-finance-data-analyst-at-computershare-3538321354?refId=As6%2B%2BA2CZgKZG0HWWFwdzw%3D%3D&trackingId=jyc6Zb46Oi3KPHDbQj2IHw%3D%3D&position=1&pageNum=2&trk=public_jobs_jserp-result_search-card',\n",
       " 'https://ca.linkedin.com/jobs/view/analyst-merchandising-data-governance-at-canadian-tire-corporation-3531702220?refId=As6%2B%2BA2CZgKZG0HWWFwdzw%3D%3D&trackingId=mIUk%2BNr4USGZHX2ZQrrAGQ%3D%3D&position=2&pageNum=2&trk=public_jobs_jserp-result_search-card',\n",
       " 'https://ca.linkedin.com/jobs/view/can-data-analyst-i-at-randstad-canada-3507124837?refId=As6%2B%2BA2CZgKZG0HWWFwdzw%3D%3D&trackingId=oEo96a3hChEzVTlnH0ei%2Bw%3D%3D&position=3&pageNum=2&trk=public_jobs_jserp-result_search-card',\n",
       " 'https://ca.linkedin.com/jobs/view/business-intelligence-analyst-at-mosaic-north-america-3545260765?refId=As6%2B%2BA2CZgKZG0HWWFwdzw%3D%3D&trackingId=SAzq13aHAoFeCvPb4A7hYQ%3D%3D&position=4&pageNum=2&trk=public_jobs_jserp-result_search-card',\n",
       " 'https://ca.linkedin.com/jobs/view/senior-business-intelligence-and-reporting-analyst-at-td-3550851555?refId=As6%2B%2BA2CZgKZG0HWWFwdzw%3D%3D&trackingId=54hag48%2F80EHgElpjP8pjw%3D%3D&position=5&pageNum=2&trk=public_jobs_jserp-result_search-card',\n",
       " 'https://ca.linkedin.com/jobs/view/quality-improvement-and-data-analyst-at-michael-garron-hospital-3524270433?refId=As6%2B%2BA2CZgKZG0HWWFwdzw%3D%3D&trackingId=mJqsIKn6Xol9GGhOj4a8zg%3D%3D&position=6&pageNum=2&trk=public_jobs_jserp-result_search-card',\n",
       " 'https://ca.linkedin.com/jobs/view/business-systems-analyst-treasury-systems-at-bay-street-staffing-3540146692?refId=As6%2B%2BA2CZgKZG0HWWFwdzw%3D%3D&trackingId=mb8IkPVP7jVWHV%2BSKKzXbg%3D%3D&position=7&pageNum=2&trk=public_jobs_jserp-result_search-card',\n",
       " 'https://ca.linkedin.com/jobs/view/junior-systems-engineer-new-graduate-at-aviya-aerospace-systems-3412116937?refId=As6%2B%2BA2CZgKZG0HWWFwdzw%3D%3D&trackingId=k%2F%2FaDFUZSDDnQwEDpC3dWQ%3D%3D&position=8&pageNum=2&trk=public_jobs_jserp-result_search-card',\n",
       " 'https://ca.linkedin.com/jobs/view/business-data-analyst-credit-risk-at-procom-3540697119?refId=As6%2B%2BA2CZgKZG0HWWFwdzw%3D%3D&trackingId=yQLs%2Fas%2FZbkX8KPg%2F3vz1Q%3D%3D&position=9&pageNum=2&trk=public_jobs_jserp-result_search-card',\n",
       " 'https://ca.linkedin.com/jobs/view/business-data-analyst-at-hoopp-healthcare-of-ontario-pension-plan-3385047009?refId=As6%2B%2BA2CZgKZG0HWWFwdzw%3D%3D&trackingId=5EjddTsf0MCQgNtk7e4k8A%3D%3D&position=11&pageNum=2&trk=public_jobs_jserp-result_search-card',\n",
       " 'https://ca.linkedin.com/jobs/view/web-analytics-specialist-at-stacktics-3507449606?refId=As6%2B%2BA2CZgKZG0HWWFwdzw%3D%3D&trackingId=M1Nj7%2BrcKpCZKDIuyhc2kQ%3D%3D&position=12&pageNum=2&trk=public_jobs_jserp-result_search-card',\n",
       " 'https://ca.linkedin.com/jobs/view/senior-analyst-campaign-analytics-insights-at-td-3547245599?refId=As6%2B%2BA2CZgKZG0HWWFwdzw%3D%3D&trackingId=Xa1OcwY7t04GvtyVi7LINA%3D%3D&position=13&pageNum=2&trk=public_jobs_jserp-result_search-card',\n",
       " 'https://ca.linkedin.com/jobs/view/reporting-and-analytics-senior-analyst-at-equinix-3536675414?refId=As6%2B%2BA2CZgKZG0HWWFwdzw%3D%3D&trackingId=P8u7JoSCcm0YU66WJIbIKw%3D%3D&position=14&pageNum=2&trk=public_jobs_jserp-result_search-card',\n",
       " 'https://ca.linkedin.com/jobs/view/data-engineer-advanced-analytics-at-zortech-solutions-3528108616?refId=As6%2B%2BA2CZgKZG0HWWFwdzw%3D%3D&trackingId=uK1oIMMYmEgAtP6MU4jd%2BQ%3D%3D&position=15&pageNum=2&trk=public_jobs_jserp-result_search-card',\n",
       " 'https://ca.linkedin.com/jobs/view/data-analyst-rfr-23014-at-randstad-canada-3511917247?refId=As6%2B%2BA2CZgKZG0HWWFwdzw%3D%3D&trackingId=%2F0CosAGi13L9PX3z%2BZZwiw%3D%3D&position=16&pageNum=2&trk=public_jobs_jserp-result_search-card',\n",
       " 'https://ca.linkedin.com/jobs/view/sales-data-analyst-mississauga-at-hatch-3514711166?refId=As6%2B%2BA2CZgKZG0HWWFwdzw%3D%3D&trackingId=2Vws6Uvpq8XAE0InMcjpyw%3D%3D&position=17&pageNum=2&trk=public_jobs_jserp-result_search-card',\n",
       " 'https://ca.linkedin.com/jobs/view/data-engineer-at-tes-the-employment-solution-3441658468?refId=As6%2B%2BA2CZgKZG0HWWFwdzw%3D%3D&trackingId=%2BHNhMA9NNPBRcDloix1tIQ%3D%3D&position=18&pageNum=2&trk=public_jobs_jserp-result_search-card',\n",
       " 'https://ca.linkedin.com/jobs/view/can-data-analyst-iv-at-randstad-canada-3528455996?refId=As6%2B%2BA2CZgKZG0HWWFwdzw%3D%3D&trackingId=A1AmdwgmDAR77W7kN68xCQ%3D%3D&position=19&pageNum=2&trk=public_jobs_jserp-result_search-card',\n",
       " 'https://ca.linkedin.com/jobs/view/business-analyst-and-intelligence-lead-at-hp-3470770816?refId=As6%2B%2BA2CZgKZG0HWWFwdzw%3D%3D&trackingId=iAv9kVfr2EqlOiyWEmWKOQ%3D%3D&position=20&pageNum=2&trk=public_jobs_jserp-result_search-card',\n",
       " 'https://ca.linkedin.com/jobs/view/data-engineer-at-robert-half-3509892219?refId=As6%2B%2BA2CZgKZG0HWWFwdzw%3D%3D&trackingId=ODifKWHi2Ayp2X2tub%2BDaA%3D%3D&position=21&pageNum=2&trk=public_jobs_jserp-result_search-card',\n",
       " 'https://ca.linkedin.com/jobs/view/p1-data-analyst-2-positions-wecjp00025820-at-randstad-canada-3532844192?refId=As6%2B%2BA2CZgKZG0HWWFwdzw%3D%3D&trackingId=syN53rZrniIWqibQcgBBPg%3D%3D&position=22&pageNum=2&trk=public_jobs_jserp-result_search-card',\n",
       " 'https://ca.linkedin.com/jobs/view/data-analyst-canadian-tire-corporation-at-canadian-tire-corporation-3477561026?refId=As6%2B%2BA2CZgKZG0HWWFwdzw%3D%3D&trackingId=rOguNR%2FvnmPuADYY4xqpCg%3D%3D&position=23&pageNum=2&trk=public_jobs_jserp-result_search-card',\n",
       " 'https://ca.linkedin.com/jobs/view/p2-sr-data-modeler-analyst-at-randstad-canada-3515547029?refId=As6%2B%2BA2CZgKZG0HWWFwdzw%3D%3D&trackingId=W0YgRJe9NRTPDgZhc5VK7Q%3D%3D&position=24&pageNum=2&trk=public_jobs_jserp-result_search-card',\n",
       " 'https://ca.linkedin.com/jobs/view/lead-i-data-analysis-at-ust-3540669840?refId=As6%2B%2BA2CZgKZG0HWWFwdzw%3D%3D&trackingId=er7C6DJKqXZWJAQ3rEd5vQ%3D%3D&position=25&pageNum=2&trk=public_jobs_jserp-result_search-card',\n",
       " 'https://ca.linkedin.com/jobs/view/analyste-%E2%80%93-donn%C3%A9es-et-ma%C3%AEtrise-des-co%C3%BBts-%E2%80%93-gestion-de-la-r%C3%A9adaptation-at-air-canada-3545492004?refId=qw2bmfUvOMCuDp4o2MVaDw%3D%3D&trackingId=BT7%2FLZeShBHysq2xOj3vjg%3D%3D&position=1&pageNum=3&trk=public_jobs_jserp-result_search-card',\n",
       " 'https://ca.linkedin.com/jobs/view/data-analyst-with-etl-at-epsilon-solutions-ltd-3415232489?refId=qw2bmfUvOMCuDp4o2MVaDw%3D%3D&trackingId=iSnayOP4O%2ByYxiMkKoAPNA%3D%3D&position=2&pageNum=3&trk=public_jobs_jserp-result_search-card',\n",
       " 'https://ca.linkedin.com/jobs/view/data-engineer-at-loblaw-companies-limited-3543234995?refId=qw2bmfUvOMCuDp4o2MVaDw%3D%3D&trackingId=5Dr13oS0UsHp%2BdYORLyG4Q%3D%3D&position=3&pageNum=3&trk=public_jobs_jserp-result_search-card',\n",
       " 'https://ca.linkedin.com/jobs/view/sr-business-insights-analyst-at-td-3549985472?refId=qw2bmfUvOMCuDp4o2MVaDw%3D%3D&trackingId=HErGZSf8UzZJkAPHU0lSoA%3D%3D&position=4&pageNum=3&trk=public_jobs_jserp-result_search-card',\n",
       " 'https://ca.linkedin.com/jobs/view/senior-data-analyst-at-air-canada-3551038318?refId=qw2bmfUvOMCuDp4o2MVaDw%3D%3D&trackingId=3JdLpUJiOS1dvZLxoKt2Qg%3D%3D&position=5&pageNum=3&trk=public_jobs_jserp-result_search-card',\n",
       " 'https://ca.linkedin.com/jobs/view/junior-systems-engineer-new-graduate-at-aviya-aerospace-systems-3412116937?refId=qw2bmfUvOMCuDp4o2MVaDw%3D%3D&trackingId=8jR7%2FmkZuO7Vw%2Fj3oBiS0w%3D%3D&position=6&pageNum=3&trk=public_jobs_jserp-result_search-card',\n",
       " 'https://ca.linkedin.com/jobs/view/data-analyst-banking-experience-at-recruit-action-inc-3541046473?refId=qw2bmfUvOMCuDp4o2MVaDw%3D%3D&trackingId=mN7hhFfqXkC8UBf2%2BpmSRA%3D%3D&position=7&pageNum=3&trk=public_jobs_jserp-result_search-card',\n",
       " 'https://ca.linkedin.com/jobs/view/data-engineer-at-diverse-lynx-3553311576?refId=qw2bmfUvOMCuDp4o2MVaDw%3D%3D&trackingId=2jSEyN9wrbNId74XrfbqiQ%3D%3D&position=8&pageNum=3&trk=public_jobs_jserp-result_search-card',\n",
       " 'https://ca.linkedin.com/jobs/view/data-analyst-at-etraveli-group-3540416739?refId=qw2bmfUvOMCuDp4o2MVaDw%3D%3D&trackingId=WUwW4K5nULsVU2JFyfmTSQ%3D%3D&position=9&pageNum=3&trk=public_jobs_jserp-result_search-card',\n",
       " 'https://ca.linkedin.com/jobs/view/data-analyst-level-2-at-robertson-company-ltd-3493792218?refId=qw2bmfUvOMCuDp4o2MVaDw%3D%3D&trackingId=MDnguCnmtMPTtaHb1IQDDg%3D%3D&position=10&pageNum=3&trk=public_jobs_jserp-result_search-card',\n",
       " 'https://ca.linkedin.com/jobs/view/senior-business-intelligence-and-reporting-analyst-at-td-3550851555?refId=qw2bmfUvOMCuDp4o2MVaDw%3D%3D&trackingId=64W6afy3%2BHG9HzY%2Fy90Zuw%3D%3D&position=12&pageNum=3&trk=public_jobs_jserp-result_search-card',\n",
       " 'https://ca.linkedin.com/jobs/view/data-governance-senior-analyst-at-citi-3534848506?refId=qw2bmfUvOMCuDp4o2MVaDw%3D%3D&trackingId=nF7ELu22HhXF3fuYjom1HA%3D%3D&position=13&pageNum=3&trk=public_jobs_jserp-result_search-card',\n",
       " 'https://ca.linkedin.com/jobs/view/disability-management-data-cost-control-analyst-at-air-canada-3542521662?refId=qw2bmfUvOMCuDp4o2MVaDw%3D%3D&trackingId=oWUUmEjRhdopTSM9vMs1vw%3D%3D&position=14&pageNum=3&trk=public_jobs_jserp-result_search-card',\n",
       " 'https://ca.linkedin.com/jobs/view/bi-analyst-hybrid-at-randstad-canada-3523770514?refId=qw2bmfUvOMCuDp4o2MVaDw%3D%3D&trackingId=uqxqEMrHUiQoHzuPEnPfPA%3D%3D&position=15&pageNum=3&trk=public_jobs_jserp-result_search-card',\n",
       " 'https://ca.linkedin.com/jobs/view/business-data-analyst-at-diverse-lynx-3512616141?refId=qw2bmfUvOMCuDp4o2MVaDw%3D%3D&trackingId=F6WgSmZ8Dak09fXg1zsP1w%3D%3D&position=16&pageNum=3&trk=public_jobs_jserp-result_search-card',\n",
       " 'https://ca.linkedin.com/jobs/view/data-engineer-intern-at-tilray-brands-inc-3549022468?refId=qw2bmfUvOMCuDp4o2MVaDw%3D%3D&trackingId=NlrN0ynyjGQvgenEw8fVbQ%3D%3D&position=17&pageNum=3&trk=public_jobs_jserp-result_search-card',\n",
       " 'https://ca.linkedin.com/jobs/view/business-system-analyst-at-diverse-lynx-3553310708?refId=qw2bmfUvOMCuDp4o2MVaDw%3D%3D&trackingId=M79E8hetnGRVvIYCTzmvEA%3D%3D&position=18&pageNum=3&trk=public_jobs_jserp-result_search-card',\n",
       " 'https://ca.linkedin.com/jobs/view/data-analyst-and-reporting-tools-developer-at-fidelity-international-3550355158?refId=qw2bmfUvOMCuDp4o2MVaDw%3D%3D&trackingId=ttykPJx3pKI6fw8ghoWndg%3D%3D&position=19&pageNum=3&trk=public_jobs_jserp-result_search-card',\n",
       " 'https://ca.linkedin.com/jobs/view/developer-data-visualization-at-chartwell-retirement-residences-3531623957?refId=qw2bmfUvOMCuDp4o2MVaDw%3D%3D&trackingId=DI7BQCPrifJ2pUqGS2ba2g%3D%3D&position=20&pageNum=3&trk=public_jobs_jserp-result_search-card',\n",
       " 'https://ca.linkedin.com/jobs/view/data-analyst-auto-spt-co-op-at-rogers-communications-3525684170?refId=qw2bmfUvOMCuDp4o2MVaDw%3D%3D&trackingId=54M65X2Q5FCRw%2BuchWAV7w%3D%3D&position=21&pageNum=3&trk=public_jobs_jserp-result_search-card',\n",
       " 'https://ca.linkedin.com/jobs/view/senior-data-analyst-at-ruanco-italent-3485244484?refId=qw2bmfUvOMCuDp4o2MVaDw%3D%3D&trackingId=xedgRdcVn7roz%2B2MyrONpw%3D%3D&position=22&pageNum=3&trk=public_jobs_jserp-result_search-card',\n",
       " 'https://ca.linkedin.com/jobs/view/p2-sr-data-modeler-analyst-at-randstad-canada-3515547029?refId=qw2bmfUvOMCuDp4o2MVaDw%3D%3D&trackingId=GrpmuwIABOuurJNTI5sUQg%3D%3D&position=23&pageNum=3&trk=public_jobs_jserp-result_search-card',\n",
       " 'https://ca.linkedin.com/jobs/view/data-analyst-at-flair-airlines-3533747380?refId=qw2bmfUvOMCuDp4o2MVaDw%3D%3D&trackingId=mWNO6SQd8bwxo51iEIYMKQ%3D%3D&position=24&pageNum=3&trk=public_jobs_jserp-result_search-card',\n",
       " 'https://ca.linkedin.com/jobs/view/senior-analyst-%E2%80%93-data-management-chief-data-office-at-rbc-3529576842?refId=qw2bmfUvOMCuDp4o2MVaDw%3D%3D&trackingId=aQ6PROfIjDXYkGZ9EgSusA%3D%3D&position=25&pageNum=3&trk=public_jobs_jserp-result_search-card',\n",
       " 'https://ca.linkedin.com/jobs/view/business-system-analyst-at-diverse-lynx-3553310708?refId=UIERZqp3G41ZAH20RxbLJg%3D%3D&trackingId=xvWw6SLlD8m7Y3BU2nKhMw%3D%3D&position=1&pageNum=4&trk=public_jobs_jserp-result_search-card',\n",
       " 'https://ca.linkedin.com/jobs/view/sr-market-data-analyst-at-lightbox-3507786843?refId=UIERZqp3G41ZAH20RxbLJg%3D%3D&trackingId=gnVT%2FE5ijRDslSBoVlVxww%3D%3D&position=2&pageNum=4&trk=public_jobs_jserp-result_search-card',\n",
       " 'https://ca.linkedin.com/jobs/view/data-engineer-at-sage-recruiting-3437421457?refId=UIERZqp3G41ZAH20RxbLJg%3D%3D&trackingId=A6t0v8x2vCIFeTyeKqiXEw%3D%3D&position=3&pageNum=4&trk=public_jobs_jserp-result_search-card',\n",
       " 'https://ca.linkedin.com/jobs/view/data-and-systems-analyst-at-guardian-partners-inc-3542585183?refId=UIERZqp3G41ZAH20RxbLJg%3D%3D&trackingId=siztCiWRA34DiqKYahnwUw%3D%3D&position=4&pageNum=4&trk=public_jobs_jserp-result_search-card',\n",
       " 'https://ca.linkedin.com/jobs/view/business-system-analyst-bsa-at-zortech-solutions-3551762262?refId=UIERZqp3G41ZAH20RxbLJg%3D%3D&trackingId=hs0wrdMuGGynYFIoL2xADQ%3D%3D&position=5&pageNum=4&trk=public_jobs_jserp-result_search-card',\n",
       " 'https://ca.linkedin.com/jobs/view/senior-data-engineer-at-exl-3545753734?refId=UIERZqp3G41ZAH20RxbLJg%3D%3D&trackingId=OWNx0207wVsR41gpwGg1lQ%3D%3D&position=6&pageNum=4&trk=public_jobs_jserp-result_search-card',\n",
       " 'https://ca.linkedin.com/jobs/view/modelling-forecasting-analyst-en-at-td-3550556307?refId=UIERZqp3G41ZAH20RxbLJg%3D%3D&trackingId=b%2Fp3jZJQb2IVeywqAApxxA%3D%3D&position=7&pageNum=4&trk=public_jobs_jserp-result_search-card',\n",
       " 'https://ca.linkedin.com/jobs/view/master-data-analyst-data-and-bom-at-tilray-brands-inc-3545881935?refId=UIERZqp3G41ZAH20RxbLJg%3D%3D&trackingId=I4W4o6LL1wJomGB3sEjy0A%3D%3D&position=8&pageNum=4&trk=public_jobs_jserp-result_search-card',\n",
       " 'https://ca.linkedin.com/jobs/view/associate-data-analyst-at-socan-3532287641?refId=UIERZqp3G41ZAH20RxbLJg%3D%3D&trackingId=A9wM7JXIxkCeqi7FH0X4jw%3D%3D&position=9&pageNum=4&trk=public_jobs_jserp-result_search-card',\n",
       " 'https://ca.linkedin.com/jobs/view/business-analytics-consultant-remote-at-shyftlabs-3546420092?refId=UIERZqp3G41ZAH20RxbLJg%3D%3D&trackingId=F0E%2F3abe4Jt8cc7p%2BuS1%2Bg%3D%3D&position=10&pageNum=4&trk=public_jobs_jserp-result_search-card',\n",
       " 'https://ca.linkedin.com/jobs/view/data-migration-analyst-at-atlantis-it-group-3545333235?refId=UIERZqp3G41ZAH20RxbLJg%3D%3D&trackingId=7CdvUvpIF5o4TT0LyH3ZOA%3D%3D&position=11&pageNum=4&trk=public_jobs_jserp-result_search-card',\n",
       " 'https://ca.linkedin.com/jobs/view/business-data-analyst-8-month-contract-at-stafflink-solutions-it-staffing-company-3538515862?refId=UIERZqp3G41ZAH20RxbLJg%3D%3D&trackingId=nmYylzqFMb30XJ0WOfwb8w%3D%3D&position=12&pageNum=4&trk=public_jobs_jserp-result_search-card',\n",
       " 'https://ca.linkedin.com/jobs/view/junior-systems-engineer-new-graduate-at-aviya-aerospace-systems-3412116937?refId=UIERZqp3G41ZAH20RxbLJg%3D%3D&trackingId=zX1cFJJ5M%2FKD%2BZnN8OuvoQ%3D%3D&position=13&pageNum=4&trk=public_jobs_jserp-result_search-card',\n",
       " 'https://ca.linkedin.com/jobs/view/data-engineer-at-i-cube-software-llc-3544976931?refId=UIERZqp3G41ZAH20RxbLJg%3D%3D&trackingId=h9JE%2FIgDxOxlMhMZqNWIng%3D%3D&position=14&pageNum=4&trk=public_jobs_jserp-result_search-card',\n",
       " 'https://ca.linkedin.com/jobs/view/pricing-data-analyst-at-meridia-recruitment-solutions-a-kbrs-company-3540909284?refId=UIERZqp3G41ZAH20RxbLJg%3D%3D&trackingId=oy9t4Xw6VxJDuenbjKe9Nw%3D%3D&position=15&pageNum=4&trk=public_jobs_jserp-result_search-card',\n",
       " 'https://ca.linkedin.com/jobs/view/data-analyst-at-diverse-lynx-3415255507?refId=UIERZqp3G41ZAH20RxbLJg%3D%3D&trackingId=ZOTB%2BoK5KzOgde7xkk18ZQ%3D%3D&position=16&pageNum=4&trk=public_jobs_jserp-result_search-card',\n",
       " 'https://ca.linkedin.com/jobs/view/data-engineer-at-zortech-solutions-3528111196?refId=UIERZqp3G41ZAH20RxbLJg%3D%3D&trackingId=tVhxZFkwc0qhidXCB70NNA%3D%3D&position=17&pageNum=4&trk=public_jobs_jserp-result_search-card',\n",
       " 'https://ca.linkedin.com/jobs/view/data-analysts-at-diverse-lynx-3507837560?refId=UIERZqp3G41ZAH20RxbLJg%3D%3D&trackingId=JFJB1CE%2BeizH3c9nSf0F2A%3D%3D&position=18&pageNum=4&trk=public_jobs_jserp-result_search-card',\n",
       " 'https://ca.linkedin.com/jobs/view/data-engineer-at-experfy-3545261772?refId=UIERZqp3G41ZAH20RxbLJg%3D%3D&trackingId=BsQQmZwhsLo56Lk%2F6JZMaQ%3D%3D&position=19&pageNum=4&trk=public_jobs_jserp-result_search-card',\n",
       " 'https://ca.linkedin.com/jobs/view/p2-data-analyst-wecjp00025652-at-randstad-canada-3540914894?refId=UIERZqp3G41ZAH20RxbLJg%3D%3D&trackingId=7PjAiLR2FS4QsZe8XfXIMg%3D%3D&position=20&pageNum=4&trk=public_jobs_jserp-result_search-card',\n",
       " 'https://ca.linkedin.com/jobs/view/data-engineer-at-flair-airlines-3532248352?refId=UIERZqp3G41ZAH20RxbLJg%3D%3D&trackingId=6XD86VC0TP2JJU7i8eTJEg%3D%3D&position=22&pageNum=4&trk=public_jobs_jserp-result_search-card',\n",
       " 'https://ca.linkedin.com/jobs/view/analyst-consumer-and-market-insights-at-saputo-inc-3498010814?refId=UIERZqp3G41ZAH20RxbLJg%3D%3D&trackingId=AvD9Aor%2Bp1xi4tsQvGk4BQ%3D%3D&position=23&pageNum=4&trk=public_jobs_jserp-result_search-card',\n",
       " 'https://ca.linkedin.com/jobs/view/data-analyst-at-baycrest-health-sciences-3493088516?refId=UIERZqp3G41ZAH20RxbLJg%3D%3D&trackingId=4AdsxEGHa2gx72dbaiBH4Q%3D%3D&position=24&pageNum=4&trk=public_jobs_jserp-result_search-card',\n",
       " 'https://ca.linkedin.com/jobs/view/data-engineer-at-validere-3517686523?refId=UIERZqp3G41ZAH20RxbLJg%3D%3D&trackingId=Jr79RIA7qijSBeepfJ4NOQ%3D%3D&position=25&pageNum=4&trk=public_jobs_jserp-result_search-card',\n",
       " 'https://ca.linkedin.com/jobs/view/business-data-analyst%40canada-toronto-at-diverse-lynx-3512616147?refId=p%2BtnCadfh%2Bd0Dm6CoFmKDw%3D%3D&trackingId=pESVhONHKQjCduGjJT%2FsvA%3D%3D&position=1&pageNum=5&trk=public_jobs_jserp-result_search-card',\n",
       " 'https://ca.linkedin.com/jobs/view/p2-data-analyst-149168-at-randstad-canada-3531700044?refId=p%2BtnCadfh%2Bd0Dm6CoFmKDw%3D%3D&trackingId=%2BM3tqYjP%2B81Q6ctSHA4AGQ%3D%3D&position=2&pageNum=5&trk=public_jobs_jserp-result_search-card',\n",
       " 'https://ca.linkedin.com/jobs/view/data-insights-lead-remote-at-tpd%C2%AE-workforce-hr-solutions-3477479585?refId=p%2BtnCadfh%2Bd0Dm6CoFmKDw%3D%3D&trackingId=Pe%2BKnk75MUpxddjqEGb%2Bsg%3D%3D&position=3&pageNum=5&trk=public_jobs_jserp-result_search-card',\n",
       " 'https://ca.linkedin.com/jobs/view/senior-analyst-sales-operations-and-analytics-at-sterimax-inc-3487296836?refId=p%2BtnCadfh%2Bd0Dm6CoFmKDw%3D%3D&trackingId=Ax8wHv9d6QyOvF3SkUPJpg%3D%3D&position=4&pageNum=5&trk=public_jobs_jserp-result_search-card',\n",
       " 'https://ca.linkedin.com/jobs/view/sr-analyst-data-operations-fulltime-at-tundra-technical-solutions-3482572043?refId=p%2BtnCadfh%2Bd0Dm6CoFmKDw%3D%3D&trackingId=bKhfQnkIQkJTIxQa6ymRQw%3D%3D&position=5&pageNum=5&trk=public_jobs_jserp-result_search-card',\n",
       " 'https://ca.linkedin.com/jobs/view/data-analyst-qa-tester-at-experfy-3545264247?refId=p%2BtnCadfh%2Bd0Dm6CoFmKDw%3D%3D&trackingId=uD67f2%2BtRIl3rkeye24UFQ%3D%3D&position=6&pageNum=5&trk=public_jobs_jserp-result_search-card',\n",
       " 'https://ca.linkedin.com/jobs/view/sql-developer-at-eteam-3498179576?refId=p%2BtnCadfh%2Bd0Dm6CoFmKDw%3D%3D&trackingId=K3ChE0%2FLl2Humxb1j1jNnA%3D%3D&position=7&pageNum=5&trk=public_jobs_jserp-result_search-card',\n",
       " 'https://ca.linkedin.com/jobs/view/business-analyst-data-analyst-at-diverse-lynx-3465475166?refId=p%2BtnCadfh%2Bd0Dm6CoFmKDw%3D%3D&trackingId=xfORwUQ7rvmmmTr9Xj6XtQ%3D%3D&position=8&pageNum=5&trk=public_jobs_jserp-result_search-card',\n",
       " 'https://ca.linkedin.com/jobs/view/data-analyst-at-ritual-co-3486639346?refId=p%2BtnCadfh%2Bd0Dm6CoFmKDw%3D%3D&trackingId=ijAuyleV2MtM0wq1ADyH9Q%3D%3D&position=9&pageNum=5&trk=public_jobs_jserp-result_search-card',\n",
       " 'https://ca.linkedin.com/jobs/view/bioinformatics-analyst-at-dnastack-3524447365?refId=p%2BtnCadfh%2Bd0Dm6CoFmKDw%3D%3D&trackingId=SeQ4A8CyXISuMz38ZIU3DQ%3D%3D&position=10&pageNum=5&trk=public_jobs_jserp-result_search-card',\n",
       " 'https://ca.linkedin.com/jobs/view/data-analyst-internal-audit-at-canada-life-3542352182?refId=p%2BtnCadfh%2Bd0Dm6CoFmKDw%3D%3D&trackingId=A6w3hfK1a7tLfLfwWS6G0Q%3D%3D&position=11&pageNum=5&trk=public_jobs_jserp-result_search-card',\n",
       " 'https://ca.linkedin.com/jobs/view/sr-it-data-analyst-at-td-3547247367?refId=p%2BtnCadfh%2Bd0Dm6CoFmKDw%3D%3D&trackingId=7%2Fa%2BY6W7Q6cgQWlaEduG3w%3D%3D&position=12&pageNum=5&trk=public_jobs_jserp-result_search-card',\n",
       " 'https://ca.linkedin.com/jobs/view/data-engineer-at-futurefit-ai-3479101122?refId=p%2BtnCadfh%2Bd0Dm6CoFmKDw%3D%3D&trackingId=hXQx%2B7AnZKI7JZX7bZH%2Fyg%3D%3D&position=13&pageNum=5&trk=public_jobs_jserp-result_search-card',\n",
       " 'https://ca.linkedin.com/jobs/view/entry-level-research-data-analyst-full-time-at-hitek-staffings-3546499922?refId=p%2BtnCadfh%2Bd0Dm6CoFmKDw%3D%3D&trackingId=B8Imp%2F2EJOmawKRqGNnGqg%3D%3D&position=14&pageNum=5&trk=public_jobs_jserp-result_search-card',\n",
       " 'https://ca.linkedin.com/jobs/view/data-analyst-at-epsilon-solutions-ltd-3415236100?refId=p%2BtnCadfh%2Bd0Dm6CoFmKDw%3D%3D&trackingId=hwEc%2Fxcq6OZnnQQ22hVbXQ%3D%3D&position=15&pageNum=5&trk=public_jobs_jserp-result_search-card',\n",
       " 'https://ca.linkedin.com/jobs/view/data-engineer-at-thinkpivot-talent-solutions-3550418590?refId=p%2BtnCadfh%2Bd0Dm6CoFmKDw%3D%3D&trackingId=xt2lwlw%2BYRuYY6Q4BvqGqw%3D%3D&position=16&pageNum=5&trk=public_jobs_jserp-result_search-card',\n",
       " 'https://ca.linkedin.com/jobs/view/data-analyst-at-charger-logistics-inc-3549050409?refId=p%2BtnCadfh%2Bd0Dm6CoFmKDw%3D%3D&trackingId=Po5t4K5uJrWZELwfSTotbQ%3D%3D&position=17&pageNum=5&trk=public_jobs_jserp-result_search-card',\n",
       " 'https://ca.linkedin.com/jobs/view/p2-junior-big-data-developers-x-4-creq002529-at-randstad-canada-3540912896?refId=p%2BtnCadfh%2Bd0Dm6CoFmKDw%3D%3D&trackingId=v3S%2BJvCl3EJux4AZLAcoJA%3D%3D&position=18&pageNum=5&trk=public_jobs_jserp-result_search-card',\n",
       " 'https://ca.linkedin.com/jobs/view/analyste-analyses-avanc%C3%A9es-fr-at-cn-3539612137?refId=p%2BtnCadfh%2Bd0Dm6CoFmKDw%3D%3D&trackingId=RNVGfLQecR60MVnmPLLPxg%3D%3D&position=19&pageNum=5&trk=public_jobs_jserp-result_search-card',\n",
       " 'https://ca.linkedin.com/jobs/view/business-system-analyst-at-diverse-lynx-3553332714?refId=p%2BtnCadfh%2Bd0Dm6CoFmKDw%3D%3D&trackingId=vlBZQSQgh2RRb3Rg330lmw%3D%3D&position=20&pageNum=5&trk=public_jobs_jserp-result_search-card',\n",
       " 'https://ca.linkedin.com/jobs/view/business-data-analyst-credit-risk-at-procom-3540697119?refId=p%2BtnCadfh%2Bd0Dm6CoFmKDw%3D%3D&trackingId=kQiiAnu2OksL2hyZJFK3vg%3D%3D&position=21&pageNum=5&trk=public_jobs_jserp-result_search-card',\n",
       " 'https://ca.linkedin.com/jobs/view/p1-data-analyst-wecjp00025630-at-randstad-canada-3541992430?refId=p%2BtnCadfh%2Bd0Dm6CoFmKDw%3D%3D&trackingId=jDwoXxrWIUSZTiEoWaZ9yQ%3D%3D&position=22&pageNum=5&trk=public_jobs_jserp-result_search-card',\n",
       " 'https://ca.linkedin.com/jobs/view/junior-business-systems-analyst-at-terrestrial-energy-3503609441?refId=p%2BtnCadfh%2Bd0Dm6CoFmKDw%3D%3D&trackingId=tUk6ms2frmOX81%2FMijPbPQ%3D%3D&position=23&pageNum=5&trk=public_jobs_jserp-result_search-card',\n",
       " 'https://ca.linkedin.com/jobs/view/data-analyst-remote-at-super-3544501363?refId=p%2BtnCadfh%2Bd0Dm6CoFmKDw%3D%3D&trackingId=sE7d6moiavrhGEcHUUJvIQ%3D%3D&position=24&pageNum=5&trk=public_jobs_jserp-result_search-card',\n",
       " 'https://ca.linkedin.com/jobs/view/sr-data-analyst-at-diverse-lynx-3415257230?refId=p%2BtnCadfh%2Bd0Dm6CoFmKDw%3D%3D&trackingId=U0nqoHxMl1i4ax6J7B74oA%3D%3D&position=25&pageNum=5&trk=public_jobs_jserp-result_search-card',\n",
       " 'https://ca.linkedin.com/jobs/view/data-engineer-at-citylitics-inc-3549172923?refId=VLGKvNrYL2NzLfAMKGmUIA%3D%3D&trackingId=%2BJ6a%2FfG7tLypHMA726xSsA%3D%3D&position=1&pageNum=6&trk=public_jobs_jserp-result_search-card',\n",
       " 'https://ca.linkedin.com/jobs/view/sr-data-analyst-at-diverse-lynx-3415256404?refId=VLGKvNrYL2NzLfAMKGmUIA%3D%3D&trackingId=zJ7%2Fw0kNQU6uk0p9nnezFw%3D%3D&position=2&pageNum=6&trk=public_jobs_jserp-result_search-card',\n",
       " 'https://ca.linkedin.com/jobs/view/business-systems-data-analyst-at-diverse-lynx-3507842083?refId=VLGKvNrYL2NzLfAMKGmUIA%3D%3D&trackingId=4bBaJrVnYIpnUPYxYfM%2BxA%3D%3D&position=3&pageNum=6&trk=public_jobs_jserp-result_search-card',\n",
       " 'https://ca.linkedin.com/jobs/view/business-intelligence-analyst-finance-at-plooto-3475958588?refId=VLGKvNrYL2NzLfAMKGmUIA%3D%3D&trackingId=v0LDHjKFpW%2BMIvVgXcaDxg%3D%3D&position=4&pageNum=6&trk=public_jobs_jserp-result_search-card',\n",
       " 'https://ca.linkedin.com/jobs/view/analyst-digital-platform-at-air-canada-3542792045?refId=VLGKvNrYL2NzLfAMKGmUIA%3D%3D&trackingId=tetGoNW4CPaJ%2FitjuSIWZA%3D%3D&position=5&pageNum=6&trk=public_jobs_jserp-result_search-card',\n",
       " 'https://ca.linkedin.com/jobs/view/business-intelligence-bi-developer-analyst-it-at-canaccord-genuity-group-inc-3544447417?refId=VLGKvNrYL2NzLfAMKGmUIA%3D%3D&trackingId=xMVISxBQmHP7ThO4dwIBew%3D%3D&position=6&pageNum=6&trk=public_jobs_jserp-result_search-card',\n",
       " 'https://ca.linkedin.com/jobs/view/data-management-analyst-at-university-health-network-3540909080?refId=VLGKvNrYL2NzLfAMKGmUIA%3D%3D&trackingId=%2BLb9fZeEeVIuTlVvN%2BMErw%3D%3D&position=7&pageNum=6&trk=public_jobs_jserp-result_search-card',\n",
       " 'https://ca.linkedin.com/jobs/view/data-engineer-at-epsilon-solutions-ltd-3507839257?refId=VLGKvNrYL2NzLfAMKGmUIA%3D%3D&trackingId=mtcCFBkibx3bU7noZgojng%3D%3D&position=8&pageNum=6&trk=public_jobs_jserp-result_search-card',\n",
       " 'https://ca.linkedin.com/jobs/view/business-data-analyst-at-j-m-group-3512610751?refId=VLGKvNrYL2NzLfAMKGmUIA%3D%3D&trackingId=Cr9mEPdWDbhi0WDVkD%2BrKg%3D%3D&position=9&pageNum=6&trk=public_jobs_jserp-result_search-card',\n",
       " 'https://ca.linkedin.com/jobs/view/data-analyst-at-epsilon-solutions-ltd-3415230824?refId=VLGKvNrYL2NzLfAMKGmUIA%3D%3D&trackingId=TgD2Crxc9VBpAU4BGraw6Q%3D%3D&position=10&pageNum=6&trk=public_jobs_jserp-result_search-card',\n",
       " 'https://ca.linkedin.com/jobs/view/senior-business-intelligence-and-reporting-analyst-at-td-3550851555?refId=VLGKvNrYL2NzLfAMKGmUIA%3D%3D&trackingId=4vtVRGWLi4BVHU7%2FM2jONQ%3D%3D&position=11&pageNum=6&trk=public_jobs_jserp-result_search-card',\n",
       " 'https://ca.linkedin.com/jobs/view/data-analyst-capital-markets-money-market-at-beachhead-3537517932?refId=VLGKvNrYL2NzLfAMKGmUIA%3D%3D&trackingId=DaLxCWTHHUmwoSIPWiEMxA%3D%3D&position=12&pageNum=6&trk=public_jobs_jserp-result_search-card',\n",
       " 'https://ca.linkedin.com/jobs/view/data-analytics-user-research-canada-at-zortech-solutions-3438723351?refId=VLGKvNrYL2NzLfAMKGmUIA%3D%3D&trackingId=YCGtmfJF%2Fj0GGDDuO67Wpw%3D%3D&position=13&pageNum=6&trk=public_jobs_jserp-result_search-card',\n",
       " 'https://ca.linkedin.com/jobs/view/digital-data-engineer-at-experfy-3520214770?refId=VLGKvNrYL2NzLfAMKGmUIA%3D%3D&trackingId=Iu02Ale8kzLa1dP4PlJZsw%3D%3D&position=14&pageNum=6&trk=public_jobs_jserp-result_search-card',\n",
       " 'https://ca.linkedin.com/jobs/view/sql-developer-at-emonics-llc-3512613197?refId=VLGKvNrYL2NzLfAMKGmUIA%3D%3D&trackingId=8xEhhJshbgoyAjLviQ4XzQ%3D%3D&position=15&pageNum=6&trk=public_jobs_jserp-result_search-card',\n",
       " 'https://ca.linkedin.com/jobs/view/st-analyst-data-analytics-reporting-8-12-months-summer-2023-co-op-student-at-apotex-inc-3525204478?refId=VLGKvNrYL2NzLfAMKGmUIA%3D%3D&trackingId=kXE12yWc5bQ%2FK4BStLl3Ig%3D%3D&position=16&pageNum=6&trk=public_jobs_jserp-result_search-card',\n",
       " 'https://ca.linkedin.com/jobs/view/data-analyst-at-north-york-general-hospital-3545997410?refId=VLGKvNrYL2NzLfAMKGmUIA%3D%3D&trackingId=lx1cJiX06ozNAv778AFTXw%3D%3D&position=17&pageNum=6&trk=public_jobs_jserp-result_search-card',\n",
       " 'https://ca.linkedin.com/jobs/view/master-data-analyst-data-and-bom-at-tilray-brands-inc-3536666246?refId=VLGKvNrYL2NzLfAMKGmUIA%3D%3D&trackingId=0hM4m6vQloyahP0qwHcMkg%3D%3D&position=18&pageNum=6&trk=public_jobs_jserp-result_search-card',\n",
       " 'https://ca.linkedin.com/jobs/view/senior-analyst-%E2%80%93-data-management-chief-data-office-at-rbc-3529576842?refId=VLGKvNrYL2NzLfAMKGmUIA%3D%3D&trackingId=AZs9QBrMlEPJiP%2FftOeylw%3D%3D&position=19&pageNum=6&trk=public_jobs_jserp-result_search-card',\n",
       " 'https://ca.linkedin.com/jobs/view/junior-business-systems-analyst-at-myblueprint-3532738518?refId=VLGKvNrYL2NzLfAMKGmUIA%3D%3D&trackingId=e3pjIhLzK8V0tItJtBsBAQ%3D%3D&position=20&pageNum=6&trk=public_jobs_jserp-result_search-card',\n",
       " 'https://ca.linkedin.com/jobs/view/business-intelligence-analyst-intern-summer-at-capreit-3548647099?refId=VLGKvNrYL2NzLfAMKGmUIA%3D%3D&trackingId=wA%2Fe9qWzc0SEU403SslPGA%3D%3D&position=21&pageNum=6&trk=public_jobs_jserp-result_search-card',\n",
       " 'https://ca.linkedin.com/jobs/view/data-analyst-at-creative-circle-3434863843?refId=VLGKvNrYL2NzLfAMKGmUIA%3D%3D&trackingId=TD%2Bgme%2FOO0HwyXVL26tNQg%3D%3D&position=22&pageNum=6&trk=public_jobs_jserp-result_search-card',\n",
       " 'https://ca.linkedin.com/jobs/view/data-analyst-transfers-at-aston-carter-3547577873?refId=VLGKvNrYL2NzLfAMKGmUIA%3D%3D&trackingId=tY0dBK3wTW0FeQ0SKhXGvA%3D%3D&position=23&pageNum=6&trk=public_jobs_jserp-result_search-card',\n",
       " 'https://ca.linkedin.com/jobs/view/it-data-analyst-specialist-at-the-ian-martin-group-3542527148?refId=VLGKvNrYL2NzLfAMKGmUIA%3D%3D&trackingId=uhxn8v28ZuRwTx%2FWmDNmsQ%3D%3D&position=24&pageNum=6&trk=public_jobs_jserp-result_search-card',\n",
       " 'https://ca.linkedin.com/jobs/view/data-analyst-%E2%80%93-sas-tableau-at-beachhead-3479597500?refId=VLGKvNrYL2NzLfAMKGmUIA%3D%3D&trackingId=maZpW6IpjLzKXATCBNSt5w%3D%3D&position=25&pageNum=6&trk=public_jobs_jserp-result_search-card']"
      ]
     },
     "execution_count": 51,
     "metadata": {},
     "output_type": "execute_result"
    }
   ],
   "source": [
    "hrefList"
   ]
  },
  {
   "cell_type": "code",
   "execution_count": 52,
   "id": "497026c4",
   "metadata": {},
   "outputs": [],
   "source": [
    "linklist=pd.DataFrame(hrefList,columns=[\"joblinks\"])\n"
   ]
  },
  {
   "cell_type": "code",
   "execution_count": 53,
   "id": "1b489163",
   "metadata": {},
   "outputs": [],
   "source": [
    "linklist.to_csv('linkedinlinks.csv')"
   ]
  },
  {
   "cell_type": "code",
   "execution_count": 54,
   "id": "2789e01c",
   "metadata": {},
   "outputs": [],
   "source": [
    "#Close the driver\n",
    "\n",
    "driver.close()"
   ]
  }
 ],
 "metadata": {
  "kernelspec": {
   "display_name": "Python 3",
   "language": "python",
   "name": "python3"
  },
  "language_info": {
   "codemirror_mode": {
    "name": "ipython",
    "version": 3
   },
   "file_extension": ".py",
   "mimetype": "text/x-python",
   "name": "python",
   "nbconvert_exporter": "python",
   "pygments_lexer": "ipython3",
   "version": "3.8.8"
  }
 },
 "nbformat": 4,
 "nbformat_minor": 5
}
